{
 "cells": [
  {
   "cell_type": "markdown",
   "metadata": {},
   "source": [
    "в качестве подопытного решил взть следующий датафрейм: https://www.kaggle.com/radmirzosimov/telecom-users-dataset  \n",
    "по прогнозированию попадет ли клиент в отток или нет"
   ]
  },
  {
   "cell_type": "code",
   "execution_count": 1,
   "metadata": {},
   "outputs": [],
   "source": [
    "import pandas as pd\n",
    "import numpy as np\n",
    "from sklearn.pipeline import Pipeline, make_pipeline\n",
    "from sklearn.base import BaseEstimator, TransformerMixin\n",
    "from sklearn.model_selection import train_test_split\n",
    "from sklearn.preprocessing import StandardScaler, OrdinalEncoder\n",
    "from sklearn.compose import make_column_transformer"
   ]
  },
  {
   "cell_type": "code",
   "execution_count": 2,
   "metadata": {},
   "outputs": [],
   "source": [
    "df = pd.read_csv(\"./data/telecom_users.csv\")\n",
    "df.drop(columns=[\"Unnamed: 0\"], inplace=True)"
   ]
  },
  {
   "cell_type": "code",
   "execution_count": 3,
   "metadata": {},
   "outputs": [
    {
     "data": {
      "text/html": [
       "<div>\n",
       "<style scoped>\n",
       "    .dataframe tbody tr th:only-of-type {\n",
       "        vertical-align: middle;\n",
       "    }\n",
       "\n",
       "    .dataframe tbody tr th {\n",
       "        vertical-align: top;\n",
       "    }\n",
       "\n",
       "    .dataframe thead th {\n",
       "        text-align: right;\n",
       "    }\n",
       "</style>\n",
       "<table border=\"1\" class=\"dataframe\">\n",
       "  <thead>\n",
       "    <tr style=\"text-align: right;\">\n",
       "      <th></th>\n",
       "      <th>customerID</th>\n",
       "      <th>gender</th>\n",
       "      <th>SeniorCitizen</th>\n",
       "      <th>Partner</th>\n",
       "      <th>Dependents</th>\n",
       "      <th>tenure</th>\n",
       "      <th>PhoneService</th>\n",
       "      <th>MultipleLines</th>\n",
       "      <th>InternetService</th>\n",
       "      <th>OnlineSecurity</th>\n",
       "      <th>...</th>\n",
       "      <th>DeviceProtection</th>\n",
       "      <th>TechSupport</th>\n",
       "      <th>StreamingTV</th>\n",
       "      <th>StreamingMovies</th>\n",
       "      <th>Contract</th>\n",
       "      <th>PaperlessBilling</th>\n",
       "      <th>PaymentMethod</th>\n",
       "      <th>MonthlyCharges</th>\n",
       "      <th>TotalCharges</th>\n",
       "      <th>Churn</th>\n",
       "    </tr>\n",
       "  </thead>\n",
       "  <tbody>\n",
       "    <tr>\n",
       "      <th>0</th>\n",
       "      <td>7010-BRBUU</td>\n",
       "      <td>Male</td>\n",
       "      <td>0</td>\n",
       "      <td>Yes</td>\n",
       "      <td>Yes</td>\n",
       "      <td>72</td>\n",
       "      <td>Yes</td>\n",
       "      <td>Yes</td>\n",
       "      <td>No</td>\n",
       "      <td>No internet service</td>\n",
       "      <td>...</td>\n",
       "      <td>No internet service</td>\n",
       "      <td>No internet service</td>\n",
       "      <td>No internet service</td>\n",
       "      <td>No internet service</td>\n",
       "      <td>Two year</td>\n",
       "      <td>No</td>\n",
       "      <td>Credit card (automatic)</td>\n",
       "      <td>24.10</td>\n",
       "      <td>1734.65</td>\n",
       "      <td>No</td>\n",
       "    </tr>\n",
       "    <tr>\n",
       "      <th>1</th>\n",
       "      <td>9688-YGXVR</td>\n",
       "      <td>Female</td>\n",
       "      <td>0</td>\n",
       "      <td>No</td>\n",
       "      <td>No</td>\n",
       "      <td>44</td>\n",
       "      <td>Yes</td>\n",
       "      <td>No</td>\n",
       "      <td>Fiber optic</td>\n",
       "      <td>No</td>\n",
       "      <td>...</td>\n",
       "      <td>Yes</td>\n",
       "      <td>No</td>\n",
       "      <td>Yes</td>\n",
       "      <td>No</td>\n",
       "      <td>Month-to-month</td>\n",
       "      <td>Yes</td>\n",
       "      <td>Credit card (automatic)</td>\n",
       "      <td>88.15</td>\n",
       "      <td>3973.2</td>\n",
       "      <td>No</td>\n",
       "    </tr>\n",
       "    <tr>\n",
       "      <th>2</th>\n",
       "      <td>9286-DOJGF</td>\n",
       "      <td>Female</td>\n",
       "      <td>1</td>\n",
       "      <td>Yes</td>\n",
       "      <td>No</td>\n",
       "      <td>38</td>\n",
       "      <td>Yes</td>\n",
       "      <td>Yes</td>\n",
       "      <td>Fiber optic</td>\n",
       "      <td>No</td>\n",
       "      <td>...</td>\n",
       "      <td>No</td>\n",
       "      <td>No</td>\n",
       "      <td>No</td>\n",
       "      <td>No</td>\n",
       "      <td>Month-to-month</td>\n",
       "      <td>Yes</td>\n",
       "      <td>Bank transfer (automatic)</td>\n",
       "      <td>74.95</td>\n",
       "      <td>2869.85</td>\n",
       "      <td>Yes</td>\n",
       "    </tr>\n",
       "  </tbody>\n",
       "</table>\n",
       "<p>3 rows × 21 columns</p>\n",
       "</div>"
      ],
      "text/plain": [
       "   customerID  gender  SeniorCitizen Partner Dependents  tenure PhoneService  \\\n",
       "0  7010-BRBUU    Male              0     Yes        Yes      72          Yes   \n",
       "1  9688-YGXVR  Female              0      No         No      44          Yes   \n",
       "2  9286-DOJGF  Female              1     Yes         No      38          Yes   \n",
       "\n",
       "  MultipleLines InternetService       OnlineSecurity  ...  \\\n",
       "0           Yes              No  No internet service  ...   \n",
       "1            No     Fiber optic                   No  ...   \n",
       "2           Yes     Fiber optic                   No  ...   \n",
       "\n",
       "      DeviceProtection          TechSupport          StreamingTV  \\\n",
       "0  No internet service  No internet service  No internet service   \n",
       "1                  Yes                   No                  Yes   \n",
       "2                   No                   No                   No   \n",
       "\n",
       "       StreamingMovies        Contract PaperlessBilling  \\\n",
       "0  No internet service        Two year               No   \n",
       "1                   No  Month-to-month              Yes   \n",
       "2                   No  Month-to-month              Yes   \n",
       "\n",
       "               PaymentMethod MonthlyCharges  TotalCharges Churn  \n",
       "0    Credit card (automatic)          24.10       1734.65    No  \n",
       "1    Credit card (automatic)          88.15        3973.2    No  \n",
       "2  Bank transfer (automatic)          74.95       2869.85   Yes  \n",
       "\n",
       "[3 rows x 21 columns]"
      ]
     },
     "execution_count": 3,
     "metadata": {},
     "output_type": "execute_result"
    }
   ],
   "source": [
    "df.head(3)"
   ]
  },
  {
   "cell_type": "code",
   "execution_count": 4,
   "metadata": {},
   "outputs": [
    {
     "data": {
      "text/plain": [
       "(5986, 21)"
      ]
     },
     "execution_count": 4,
     "metadata": {},
     "output_type": "execute_result"
    }
   ],
   "source": [
    "#  посмотрим сколько наблюдений имеется\n",
    "df.shape"
   ]
  },
  {
   "cell_type": "code",
   "execution_count": 5,
   "metadata": {},
   "outputs": [],
   "source": [
    "#  поменяем целевую переменную на бинарный класс, вместо Yes, No чтобы потом не мучиться с этим\n",
    "df.loc[df[\"Churn\"] == \"No\", \"Churn\"] = 0\n",
    "df.loc[df[\"Churn\"] == \"Yes\", \"Churn\"] = 1"
   ]
  },
  {
   "cell_type": "code",
   "execution_count": 6,
   "metadata": {},
   "outputs": [
    {
     "data": {
      "text/plain": [
       "customerID          0\n",
       "gender              0\n",
       "SeniorCitizen       0\n",
       "Partner             0\n",
       "Dependents          0\n",
       "tenure              0\n",
       "PhoneService        0\n",
       "MultipleLines       0\n",
       "InternetService     0\n",
       "OnlineSecurity      0\n",
       "OnlineBackup        0\n",
       "DeviceProtection    0\n",
       "TechSupport         0\n",
       "StreamingTV         0\n",
       "StreamingMovies     0\n",
       "Contract            0\n",
       "PaperlessBilling    0\n",
       "PaymentMethod       0\n",
       "MonthlyCharges      0\n",
       "TotalCharges        0\n",
       "Churn               0\n",
       "dtype: int64"
      ]
     },
     "execution_count": 6,
     "metadata": {},
     "output_type": "execute_result"
    }
   ],
   "source": [
    "#  не такой уж большой фрейм, но в целом я думаю подойдет для тренировочных целей\n",
    "#  посмотрим датафрейм на пропущенные значения\n",
    "df.isna().sum()"
   ]
  },
  {
   "cell_type": "code",
   "execution_count": 7,
   "metadata": {},
   "outputs": [
    {
     "data": {
      "text/plain": [
       "0    0.734881\n",
       "1    0.265119\n",
       "Name: Churn, dtype: float64"
      ]
     },
     "execution_count": 7,
     "metadata": {},
     "output_type": "execute_result"
    }
   ],
   "source": [
    "#  посмотрим на соотношение классов\n",
    "df[\"Churn\"].value_counts(normalize=True)"
   ]
  },
  {
   "cell_type": "code",
   "execution_count": 8,
   "metadata": {},
   "outputs": [],
   "source": [
    "#  задача как обычно разбалансированная, но думаю для текущих целей не будем бороться с разбалансированностью классов"
   ]
  },
  {
   "cell_type": "code",
   "execution_count": 9,
   "metadata": {},
   "outputs": [],
   "source": [
    "#  пропщенных значений нет, уже хорошо)) разделим на тренировочный и тестовый\n",
    "X_train, X_test, y_train, y_test = train_test_split(df.loc[:, :\"TotalCharges\"], df[\"Churn\"], test_size=0.3, \n",
    "                                                    random_state=42)"
   ]
  },
  {
   "cell_type": "code",
   "execution_count": 10,
   "metadata": {},
   "outputs": [
    {
     "data": {
      "text/plain": [
       "((4190, 20), (4190,))"
      ]
     },
     "execution_count": 10,
     "metadata": {},
     "output_type": "execute_result"
    }
   ],
   "source": [
    "X_train.shape, y_train.shape"
   ]
  },
  {
   "cell_type": "code",
   "execution_count": 11,
   "metadata": {},
   "outputs": [
    {
     "data": {
      "text/plain": [
       "((1796, 20), (1796,))"
      ]
     },
     "execution_count": 11,
     "metadata": {},
     "output_type": "execute_result"
    }
   ],
   "source": [
    "X_test.shape, y_test.shape"
   ]
  },
  {
   "cell_type": "code",
   "execution_count": 12,
   "metadata": {},
   "outputs": [],
   "source": [
    "#  посмотрим поближе на датафрейм и сделаем пайплайн по его изменению\n",
    "#  столбец customerID нам нафиг не нужен, поэтому в пайплайне его удалим \n",
    "\n",
    "#  столбцы gender, Partner, Dependents закодируем с помощью OrdinalEncoder, потому что данные фичи предоставляют бинарный класс\n",
    "#  столбец SeniorCitizen оставим как есть, он и так уже реализует бинарный класс\n",
    "\n",
    "#  далее идет два интересных столбца PhoneService и MultipleLines, которые взаимосвязаны. Поскольку данные категориальные \n",
    "#  и кодироваться они будут через OneHot, то попробуем их объединить. Потому что сейчас получается 5 вариантов OneHot, но можно\n",
    "#  их уменьшить. (вообще по хорошему для всего того что я делаю нужно параллельно статтесты проводить чтобы доказывать\n",
    "#  эти гипотезы, но предположим что я все это сделал и тесты дали добро на это все))) по столбцу PhoneService может быть два \n",
    "#  варианта Yes и No, а по столбцу MultipleLines можно наблюдать Yes, No и  No phone service. Логически данные в двух столбцах\n",
    "#  пересекаются на уровнях No из первого столбца и No phone services из второго столбца, а Yes из первого столбца означает \n",
    "#  что клиент может иметь выделенные линии Yes или не иметь. Поэтому предлагаю смерджить два столбца и сделать один в котором \n",
    "#  будут следующие признаки. Yes - если клиент имеет телефонные сервисы, No - если клиент не имеет телефонные сервисы и multilines\n",
    "#  если у клиента подключена опция выделенных линий...такой трансформер придется писать руками\n",
    "\n",
    "#  фичу tenure предлагаю представить в виде логарифмически нормированного признака. Только надо не забыть, что там может быть 0\n",
    "\n",
    "# посмотрим на следующие признаки [InternetService, OnlineSecurity, OnlineBackup, \n",
    "#                                  DeviceProtection, TechSupport,StreamingTV, StreamingMovies]"
   ]
  },
  {
   "cell_type": "code",
   "execution_count": 13,
   "metadata": {},
   "outputs": [],
   "source": [
    "feature_review = pd.DataFrame()\n",
    "for col in [\"InternetService\", \"OnlineSecurity\", \"OnlineBackup\", \"DeviceProtection\", \n",
    "            \"TechSupport\",\"StreamingTV\", \"StreamingMovies\"]:\n",
    "    temp_df = pd.DataFrame(df[col].value_counts())\n",
    "    feature_review = feature_review.merge(temp_df, how=\"outer\", left_index=True, right_index=True)\n",
    "feature_review.fillna(0, inplace=True)"
   ]
  },
  {
   "cell_type": "code",
   "execution_count": 14,
   "metadata": {},
   "outputs": [
    {
     "data": {
      "text/html": [
       "<div>\n",
       "<style scoped>\n",
       "    .dataframe tbody tr th:only-of-type {\n",
       "        vertical-align: middle;\n",
       "    }\n",
       "\n",
       "    .dataframe tbody tr th {\n",
       "        vertical-align: top;\n",
       "    }\n",
       "\n",
       "    .dataframe thead th {\n",
       "        text-align: right;\n",
       "    }\n",
       "</style>\n",
       "<table border=\"1\" class=\"dataframe\">\n",
       "  <thead>\n",
       "    <tr style=\"text-align: right;\">\n",
       "      <th></th>\n",
       "      <th>InternetService</th>\n",
       "      <th>OnlineSecurity</th>\n",
       "      <th>OnlineBackup</th>\n",
       "      <th>DeviceProtection</th>\n",
       "      <th>TechSupport</th>\n",
       "      <th>StreamingTV</th>\n",
       "      <th>StreamingMovies</th>\n",
       "    </tr>\n",
       "  </thead>\n",
       "  <tbody>\n",
       "    <tr>\n",
       "      <th>DSL</th>\n",
       "      <td>2068.0</td>\n",
       "      <td>0.0</td>\n",
       "      <td>0.0</td>\n",
       "      <td>0.0</td>\n",
       "      <td>0.0</td>\n",
       "      <td>0.0</td>\n",
       "      <td>0.0</td>\n",
       "    </tr>\n",
       "    <tr>\n",
       "      <th>Fiber optic</th>\n",
       "      <td>2627.0</td>\n",
       "      <td>0.0</td>\n",
       "      <td>0.0</td>\n",
       "      <td>0.0</td>\n",
       "      <td>0.0</td>\n",
       "      <td>0.0</td>\n",
       "      <td>0.0</td>\n",
       "    </tr>\n",
       "    <tr>\n",
       "      <th>No</th>\n",
       "      <td>1291.0</td>\n",
       "      <td>2982.0</td>\n",
       "      <td>2605.0</td>\n",
       "      <td>2640.0</td>\n",
       "      <td>2960.0</td>\n",
       "      <td>2389.0</td>\n",
       "      <td>2356.0</td>\n",
       "    </tr>\n",
       "    <tr>\n",
       "      <th>No internet service</th>\n",
       "      <td>0.0</td>\n",
       "      <td>1291.0</td>\n",
       "      <td>1291.0</td>\n",
       "      <td>1291.0</td>\n",
       "      <td>1291.0</td>\n",
       "      <td>1291.0</td>\n",
       "      <td>1291.0</td>\n",
       "    </tr>\n",
       "    <tr>\n",
       "      <th>Yes</th>\n",
       "      <td>0.0</td>\n",
       "      <td>1713.0</td>\n",
       "      <td>2090.0</td>\n",
       "      <td>2055.0</td>\n",
       "      <td>1735.0</td>\n",
       "      <td>2306.0</td>\n",
       "      <td>2339.0</td>\n",
       "    </tr>\n",
       "  </tbody>\n",
       "</table>\n",
       "</div>"
      ],
      "text/plain": [
       "                     InternetService  OnlineSecurity  OnlineBackup  \\\n",
       "DSL                           2068.0             0.0           0.0   \n",
       "Fiber optic                   2627.0             0.0           0.0   \n",
       "No                            1291.0          2982.0        2605.0   \n",
       "No internet service              0.0          1291.0        1291.0   \n",
       "Yes                              0.0          1713.0        2090.0   \n",
       "\n",
       "                     DeviceProtection  TechSupport  StreamingTV  \\\n",
       "DSL                               0.0          0.0          0.0   \n",
       "Fiber optic                       0.0          0.0          0.0   \n",
       "No                             2640.0       2960.0       2389.0   \n",
       "No internet service            1291.0       1291.0       1291.0   \n",
       "Yes                            2055.0       1735.0       2306.0   \n",
       "\n",
       "                     StreamingMovies  \n",
       "DSL                              0.0  \n",
       "Fiber optic                      0.0  \n",
       "No                            2356.0  \n",
       "No internet service           1291.0  \n",
       "Yes                           2339.0  "
      ]
     },
     "execution_count": 14,
     "metadata": {},
     "output_type": "execute_result"
    }
   ],
   "source": [
    "feature_review"
   ]
  },
  {
   "cell_type": "code",
   "execution_count": 15,
   "metadata": {},
   "outputs": [],
   "source": [
    "#  как видно почти все колонки кроме InternerService имеют почити бинарные признаки. Как видно, отсутсвие подключения интернета\n",
    "#  так же ведет за собой отсутствие прочих сервисов связанных с интернетом, что в целом логично. Поэтому предлагаю следюущее\n",
    "#  столбец с интернет сервисом оставим без изменений, а остальные столбцы преобразуем к одному столбцу, в котором будет\n",
    "#  одна бинарная фича.....есть дополнительные интернет услуги или нет. Потому что скорее всего, клиент который дополнительно\n",
    "#  к услуге интернета подключает дополнительные услуги, навряд ли будет менять провайдера. Опять же это предположение\n",
    "#  и по хорошему это надо проверять дополнительными тестами....в данном случае просто хочется потренироваться в написании \n",
    "#  пайплайнов))"
   ]
  },
  {
   "cell_type": "code",
   "execution_count": 16,
   "metadata": {},
   "outputs": [],
   "source": [
    "#  по фиче Contract ничего делать не будем, потому что в принципе градация там нормальная и достаточно OneHot\n",
    "#  колонки PaperlessBilling и PaymentMethod тоже взаимосвязаны, но образатывать их особо тоже не будем.\n",
    "#  для PaperlessBilling OrdinalEncoder, а для PaymentMethod OneHot отлично подойдет\n",
    "#  MonthlyCharges и TotalCharges сделаем дополнительно логарифмическое преобразование"
   ]
  },
  {
   "cell_type": "code",
   "execution_count": 17,
   "metadata": {},
   "outputs": [],
   "source": [
    "#  напишем трансформеры"
   ]
  },
  {
   "cell_type": "code",
   "execution_count": 125,
   "metadata": {},
   "outputs": [],
   "source": [
    "#  логарифмическое преобразование\n",
    "#  плюс добавим стандартизирование исходной фичи\n",
    "class PolyFeatureScaler(BaseEstimator, TransformerMixin):\n",
    "    def __init__(self, col_names):\n",
    "        self.col_names = col_names\n",
    "\n",
    "    def fit(self, X, y=None):\n",
    "        return self\n",
    "\n",
    "    def transform(self, X):\n",
    "        out = X.copy()\n",
    "        for col in self.col_names:\n",
    "            out[f\"{col}_log\"] = np.where(out[col] == 0, 1, out[col])\n",
    "            out[f\"{col}_log\"] = np.log(out[f\"{col}_log\"])\n",
    "            \n",
    "            out[col] = StandardScaler().fit_transform(out[[col]])\n",
    "        return out"
   ]
  },
  {
   "cell_type": "code",
   "execution_count": 114,
   "metadata": {},
   "outputs": [],
   "source": [
    "#  ручная подготовка датасета\n",
    "class PrepareDF(BaseEstimator, TransformerMixin):\n",
    "\n",
    "    def fit(self, X, y=None):\n",
    "        return self\n",
    "\n",
    "    def transform(self, X):\n",
    "        out = X.copy()\n",
    "        out.drop(columns=[\"customerID\"], inplace=True)\n",
    "        out.loc[(out[\"PhoneService\"] == \"Yes\") & (out[\"MultipleLines\"] == \"No\"), \"PhoneServ\"] = \"Phone\"\n",
    "        out.loc[(out[\"PhoneService\"] == \"Yes\") & (out[\"MultipleLines\"] == \"Yes\"), \"PhoneServ\"] = \"MultilinePhone\"\n",
    "        out.loc[(out[\"PhoneService\"] == \"No\") & (out[\"MultipleLines\"] == \"No phone service\"), \"PhoneServ\"] = \"NoPhone\"\n",
    "        out.drop(columns=[\"PhoneService\", \"MultipleLines\"], inplace=True)\n",
    "        \n",
    "        out[\"ExtraInternetServ\"] = pd.NA\n",
    "        out.loc[(df[\"OnlineSecurity\"] == \"Yes\") | \n",
    "                (df[\"OnlineBackup\"] == \"Yes\") |\n",
    "                (df[\"DeviceProtection\"] == \"Yes\") |\n",
    "                (df[\"TechSupport\"] == \"Yes\") |\n",
    "                (df[\"StreamingTV\"] == \"Yes\") |\n",
    "                (df[\"StreamingMovies\"] == \"Yes\"), \"ExtraInternetServ\"] = 1\n",
    "        out[\"ExtraInternetServ\"].fillna(0, inplace=True)\n",
    "        out.drop(columns=[\"OnlineSecurity\", \"OnlineBackup\", \"DeviceProtection\", \n",
    "                          \"TechSupport\",\"StreamingTV\", \"StreamingMovies\"], \n",
    "                 inplace=True)\n",
    "        \n",
    "#         в процессе выяснилось что в графе TotalCharges на самом деле текст и есть пропущенные значения в виде пробелов.\n",
    "#         поэтому делаем замену, тоже ручками\n",
    "        out.loc[out[\"TotalCharges\"] == \" \", \"TotalCharges\"] = 0\n",
    "        out[\"TotalCharges\"] = out[\"TotalCharges\"].astype(\"float64\")\n",
    "    \n",
    "        return out"
   ]
  },
  {
   "cell_type": "code",
   "execution_count": 95,
   "metadata": {},
   "outputs": [],
   "source": [
    "#  Есть определенные проблемы с реализацией OrdinalEnoder в sklearn, чтобы ее обойти нужно дописать свой класс \n",
    "class OrdEncoder(BaseEstimator, TransformerMixin):\n",
    "    def __init__(self, col_names):\n",
    "        self.col_names = col_names\n",
    "\n",
    "    def fit(self, X, y=None):\n",
    "        return self\n",
    "\n",
    "    def transform(self, X):\n",
    "        out = X.copy()\n",
    "        df_for_replace = pd.DataFrame()\n",
    "        for col in self.col_names:\n",
    "            temp_col = OrdinalEncoder(categories=\"auto\").fit_transform(df[[col]])\n",
    "            temp_df = pd.DataFrame(temp_col, columns=[col])\n",
    "            df_for_replace = pd.concat([df_for_replace, temp_df], axis=1)\n",
    "        out.drop(columns=self.col_names, inplace=True)\n",
    "        out = pd.concat([out, df_for_replace], axis=1)\n",
    "        return out"
   ]
  },
  {
   "cell_type": "code",
   "execution_count": 101,
   "metadata": {},
   "outputs": [],
   "source": [
    "class OHEEncoder(BaseEstimator, TransformerMixin):\n",
    "    def __init__(self, col_names):\n",
    "        self.col_names = col_names\n",
    "\n",
    "    def fit(self, X, y=None):\n",
    "        return self\n",
    "\n",
    "    def transform(self, X):\n",
    "        return pd.get_dummies(X, columns=self.col_names)"
   ]
  },
  {
   "cell_type": "code",
   "execution_count": 134,
   "metadata": {},
   "outputs": [
    {
     "data": {
      "text/html": [
       "<div>\n",
       "<style scoped>\n",
       "    .dataframe tbody tr th:only-of-type {\n",
       "        vertical-align: middle;\n",
       "    }\n",
       "\n",
       "    .dataframe tbody tr th {\n",
       "        vertical-align: top;\n",
       "    }\n",
       "\n",
       "    .dataframe thead th {\n",
       "        text-align: right;\n",
       "    }\n",
       "</style>\n",
       "<table border=\"1\" class=\"dataframe\">\n",
       "  <thead>\n",
       "    <tr style=\"text-align: right;\">\n",
       "      <th></th>\n",
       "      <th>gender</th>\n",
       "      <th>SeniorCitizen</th>\n",
       "      <th>Partner</th>\n",
       "      <th>Dependents</th>\n",
       "      <th>tenure</th>\n",
       "      <th>InternetService</th>\n",
       "      <th>Contract</th>\n",
       "      <th>PaperlessBilling</th>\n",
       "      <th>PaymentMethod</th>\n",
       "      <th>MonthlyCharges</th>\n",
       "      <th>TotalCharges</th>\n",
       "      <th>PhoneServ</th>\n",
       "      <th>ExtraInternetServ</th>\n",
       "    </tr>\n",
       "  </thead>\n",
       "  <tbody>\n",
       "    <tr>\n",
       "      <th>1187</th>\n",
       "      <td>Female</td>\n",
       "      <td>0</td>\n",
       "      <td>No</td>\n",
       "      <td>No</td>\n",
       "      <td>34</td>\n",
       "      <td>No</td>\n",
       "      <td>Month-to-month</td>\n",
       "      <td>No</td>\n",
       "      <td>Mailed check</td>\n",
       "      <td>20.35</td>\n",
       "      <td>673.20</td>\n",
       "      <td>Phone</td>\n",
       "      <td>0</td>\n",
       "    </tr>\n",
       "    <tr>\n",
       "      <th>5080</th>\n",
       "      <td>Female</td>\n",
       "      <td>0</td>\n",
       "      <td>Yes</td>\n",
       "      <td>No</td>\n",
       "      <td>72</td>\n",
       "      <td>No</td>\n",
       "      <td>Two year</td>\n",
       "      <td>No</td>\n",
       "      <td>Bank transfer (automatic)</td>\n",
       "      <td>19.40</td>\n",
       "      <td>1496.45</td>\n",
       "      <td>Phone</td>\n",
       "      <td>0</td>\n",
       "    </tr>\n",
       "  </tbody>\n",
       "</table>\n",
       "</div>"
      ],
      "text/plain": [
       "      gender  SeniorCitizen Partner Dependents  tenure InternetService  \\\n",
       "1187  Female              0      No         No      34              No   \n",
       "5080  Female              0     Yes         No      72              No   \n",
       "\n",
       "            Contract PaperlessBilling              PaymentMethod  \\\n",
       "1187  Month-to-month               No               Mailed check   \n",
       "5080        Two year               No  Bank transfer (automatic)   \n",
       "\n",
       "      MonthlyCharges  TotalCharges PhoneServ  ExtraInternetServ  \n",
       "1187           20.35        673.20     Phone                  0  \n",
       "5080           19.40       1496.45     Phone                  0  "
      ]
     },
     "execution_count": 134,
     "metadata": {},
     "output_type": "execute_result"
    }
   ],
   "source": [
    "#  посмотрим как отрабатывает наш ручной преобразователь\n",
    "PrepareDF().transform(X_train).head(2)"
   ]
  },
  {
   "cell_type": "code",
   "execution_count": 133,
   "metadata": {},
   "outputs": [
    {
     "data": {
      "text/plain": [
       "gender               0\n",
       "SeniorCitizen        0\n",
       "Partner              0\n",
       "Dependents           0\n",
       "tenure               0\n",
       "InternetService      0\n",
       "Contract             0\n",
       "PaperlessBilling     0\n",
       "PaymentMethod        0\n",
       "MonthlyCharges       0\n",
       "TotalCharges         0\n",
       "PhoneServ            0\n",
       "ExtraInternetServ    0\n",
       "dtype: int64"
      ]
     },
     "execution_count": 133,
     "metadata": {},
     "output_type": "execute_result"
    }
   ],
   "source": [
    "#  посмотрим оставляет ли пропущенные значения\n",
    "PrepareDF().transform(X_train).isna().sum()"
   ]
  },
  {
   "cell_type": "code",
   "execution_count": 30,
   "metadata": {},
   "outputs": [],
   "source": [
    "#  нет, отлично, тогда поехали дальше, соберем трансформер как описано было раньше"
   ]
  },
  {
   "cell_type": "code",
   "execution_count": 129,
   "metadata": {},
   "outputs": [],
   "source": [
    "transformer = make_pipeline(\n",
    "                            PrepareDF(),\n",
    "                            OrdEncoder([\"gender\", \"Partner\", \"Dependents\", \"PaperlessBilling\"]),\n",
    "                            PolyFeatureScaler([\"tenure\", \"MonthlyCharges\", \"TotalCharges\"]),\n",
    "                            OHEEncoder([\"InternetService\", \"Contract\", \"PaymentMethod\", \"PhoneServ\"])\n",
    "                            )"
   ]
  },
  {
   "cell_type": "code",
   "execution_count": 135,
   "metadata": {},
   "outputs": [
    {
     "data": {
      "text/html": [
       "<div>\n",
       "<style scoped>\n",
       "    .dataframe tbody tr th:only-of-type {\n",
       "        vertical-align: middle;\n",
       "    }\n",
       "\n",
       "    .dataframe tbody tr th {\n",
       "        vertical-align: top;\n",
       "    }\n",
       "\n",
       "    .dataframe thead th {\n",
       "        text-align: right;\n",
       "    }\n",
       "</style>\n",
       "<table border=\"1\" class=\"dataframe\">\n",
       "  <thead>\n",
       "    <tr style=\"text-align: right;\">\n",
       "      <th></th>\n",
       "      <th>SeniorCitizen</th>\n",
       "      <th>tenure</th>\n",
       "      <th>MonthlyCharges</th>\n",
       "      <th>TotalCharges</th>\n",
       "      <th>ExtraInternetServ</th>\n",
       "      <th>gender</th>\n",
       "      <th>Partner</th>\n",
       "      <th>Dependents</th>\n",
       "      <th>PaperlessBilling</th>\n",
       "      <th>tenure_log</th>\n",
       "      <th>...</th>\n",
       "      <th>Contract_Month-to-month</th>\n",
       "      <th>Contract_One year</th>\n",
       "      <th>Contract_Two year</th>\n",
       "      <th>PaymentMethod_Bank transfer (automatic)</th>\n",
       "      <th>PaymentMethod_Credit card (automatic)</th>\n",
       "      <th>PaymentMethod_Electronic check</th>\n",
       "      <th>PaymentMethod_Mailed check</th>\n",
       "      <th>PhoneServ_MultilinePhone</th>\n",
       "      <th>PhoneServ_NoPhone</th>\n",
       "      <th>PhoneServ_Phone</th>\n",
       "    </tr>\n",
       "  </thead>\n",
       "  <tbody>\n",
       "    <tr>\n",
       "      <th>0</th>\n",
       "      <td>0.0</td>\n",
       "      <td>1.605839</td>\n",
       "      <td>-1.371498</td>\n",
       "      <td>-0.251750</td>\n",
       "      <td>0.0</td>\n",
       "      <td>1.0</td>\n",
       "      <td>1.0</td>\n",
       "      <td>1.0</td>\n",
       "      <td>0.0</td>\n",
       "      <td>4.276666</td>\n",
       "      <td>...</td>\n",
       "      <td>0</td>\n",
       "      <td>0</td>\n",
       "      <td>1</td>\n",
       "      <td>0</td>\n",
       "      <td>1</td>\n",
       "      <td>0</td>\n",
       "      <td>0</td>\n",
       "      <td>1</td>\n",
       "      <td>0</td>\n",
       "      <td>0</td>\n",
       "    </tr>\n",
       "    <tr>\n",
       "      <th>1</th>\n",
       "      <td>0.0</td>\n",
       "      <td>0.465966</td>\n",
       "      <td>0.765699</td>\n",
       "      <td>0.732798</td>\n",
       "      <td>1.0</td>\n",
       "      <td>0.0</td>\n",
       "      <td>0.0</td>\n",
       "      <td>0.0</td>\n",
       "      <td>1.0</td>\n",
       "      <td>3.784190</td>\n",
       "      <td>...</td>\n",
       "      <td>1</td>\n",
       "      <td>0</td>\n",
       "      <td>0</td>\n",
       "      <td>0</td>\n",
       "      <td>1</td>\n",
       "      <td>0</td>\n",
       "      <td>0</td>\n",
       "      <td>0</td>\n",
       "      <td>0</td>\n",
       "      <td>1</td>\n",
       "    </tr>\n",
       "  </tbody>\n",
       "</table>\n",
       "<p>2 rows × 25 columns</p>\n",
       "</div>"
      ],
      "text/plain": [
       "   SeniorCitizen    tenure  MonthlyCharges  TotalCharges  ExtraInternetServ  \\\n",
       "0            0.0  1.605839       -1.371498     -0.251750                0.0   \n",
       "1            0.0  0.465966        0.765699      0.732798                1.0   \n",
       "\n",
       "   gender  Partner  Dependents  PaperlessBilling  tenure_log  ...  \\\n",
       "0     1.0      1.0         1.0               0.0    4.276666  ...   \n",
       "1     0.0      0.0         0.0               1.0    3.784190  ...   \n",
       "\n",
       "   Contract_Month-to-month  Contract_One year  Contract_Two year  \\\n",
       "0                        0                  0                  1   \n",
       "1                        1                  0                  0   \n",
       "\n",
       "   PaymentMethod_Bank transfer (automatic)  \\\n",
       "0                                        0   \n",
       "1                                        0   \n",
       "\n",
       "   PaymentMethod_Credit card (automatic)  PaymentMethod_Electronic check  \\\n",
       "0                                      1                               0   \n",
       "1                                      1                               0   \n",
       "\n",
       "   PaymentMethod_Mailed check  PhoneServ_MultilinePhone  PhoneServ_NoPhone  \\\n",
       "0                           0                         1                  0   \n",
       "1                           0                         0                  0   \n",
       "\n",
       "   PhoneServ_Phone  \n",
       "0                0  \n",
       "1                1  \n",
       "\n",
       "[2 rows x 25 columns]"
      ]
     },
     "execution_count": 135,
     "metadata": {},
     "output_type": "execute_result"
    }
   ],
   "source": [
    "transformer.fit_transform(X_train).head(2)"
   ]
  },
  {
   "cell_type": "code",
   "execution_count": 138,
   "metadata": {},
   "outputs": [],
   "source": [
    "#  вроде отрабатывает правильно, после всех преобразований получилась 25 фичей при исходных 20....в общем неплохо, \n",
    "#  не наплодили лишнего, сделаем простой классификатор на деревьях решений"
   ]
  },
  {
   "cell_type": "code",
   "execution_count": 139,
   "metadata": {},
   "outputs": [],
   "source": [
    "# ....continious will be soon"
   ]
  },
  {
   "cell_type": "code",
   "execution_count": null,
   "metadata": {},
   "outputs": [],
   "source": []
  }
 ],
 "metadata": {
  "kernelspec": {
   "display_name": "Python 3",
   "language": "python",
   "name": "python3"
  },
  "language_info": {
   "codemirror_mode": {
    "name": "ipython",
    "version": 3
   },
   "file_extension": ".py",
   "mimetype": "text/x-python",
   "name": "python",
   "nbconvert_exporter": "python",
   "pygments_lexer": "ipython3",
   "version": "3.8.5"
  }
 },
 "nbformat": 4,
 "nbformat_minor": 4
}
