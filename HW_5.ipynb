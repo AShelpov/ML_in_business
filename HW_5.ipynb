{
 "cells": [
  {
   "cell_type": "markdown",
   "metadata": {},
   "source": [
    "1. Для нашего пайплайна (Case1) поэкспериментировать с разными моделями: 1 - бустинг, 2 - логистическая регрессия (не забудьте здесь добавить в cont_transformer стандартизацию - нормирование вещественных признаков)"
   ]
  },
  {
   "cell_type": "code",
   "execution_count": null,
   "metadata": {},
   "outputs": [],
   "source": [
    "import pandas as pd\n",
    "import numpy as np\n",
    "from sklearn.pipeline import Pipeline, make_pipeline\n",
    "from sklearn.base import BaseEstimator, TransformerMixin\n",
    "from sklearn.linear_model import LogisticRegression\n",
    "from sklearn.model_selection import train_test_split\n",
    "from sklearn.preprocessing import StandardScaler, OneHotEncoder\n",
    "from sklearn.compose import make_column_transformer\n",
    "import itertools\n",
    "\n",
    "import matplotlib.pyplot as plt\n",
    "\n",
    "%matplotlib inline"
   ]
  },
  {
   "cell_type": "code",
   "execution_count": null,
   "metadata": {},
   "outputs": [],
   "source": [
    "df = pd.read_csv(\"Churn_Modelling.csv\")\n",
    "df.drop(columns=[\"RowNumber\", \"CustomerId\", \"Surname\"], inplace=True)\n",
    "df.head(3)"
   ]
  },
  {
   "cell_type": "code",
   "execution_count": null,
   "metadata": {},
   "outputs": [],
   "source": [
    "df.shape"
   ]
  },
  {
   "cell_type": "code",
   "execution_count": null,
   "metadata": {},
   "outputs": [],
   "source": [
    "X_train, X_test, y_train, y_test = train_test_split(df.loc[:, :\"EstimatedSalary\"], df['Exited'], random_state=0)"
   ]
  },
  {
   "cell_type": "code",
   "execution_count": null,
   "metadata": {},
   "outputs": [],
   "source": [
    "X_train.shape, X_test.shape"
   ]
  },
  {
   "cell_type": "markdown",
   "metadata": {},
   "source": [
    "сделаем пайплайн для логистической регрессии, непрервные признаки стандартизируем, дискретные закодируем через OneHot"
   ]
  },
  {
   "cell_type": "code",
   "execution_count": null,
   "metadata": {},
   "outputs": [],
   "source": [
    "class CreateDf(BaseEstimator, TransformerMixin):\n",
    "    def __init__(self, col_names):\n",
    "        self.col_names = col_names\n",
    "\n",
    "    def fit(self, X, y=None):\n",
    "        return self\n",
    "\n",
    "    def transform(self, X):\n",
    "        out = X.copy()\n",
    "        return pd.DataFrame(out, columns=self.col_names)"
   ]
  },
  {
   "cell_type": "code",
   "execution_count": null,
   "metadata": {},
   "outputs": [],
   "source": [
    "class OHEEncoder(BaseEstimator, TransformerMixin):\n",
    "    def __init__(self, col_names):\n",
    "        self.col_names = col_names\n",
    "\n",
    "    def fit(self, X, y=None):\n",
    "        return self\n",
    "\n",
    "    def transform(self, X):\n",
    "        return pd.get_dummies(X, columns=self.col_names)"
   ]
  },
  {
   "cell_type": "code",
   "execution_count": null,
   "metadata": {},
   "outputs": [],
   "source": [
    "standart_scaler_trans = make_column_transformer(\n",
    "                                                (StandardScaler(), [\"CreditScore\", \"Age\", \"Balance\", \n",
    "                                                                    \"NumOfProducts\", \"EstimatedSalary\"]),\n",
    "                                                remainder=\"passthrough\"\n",
    "                                                )"
   ]
  },
  {
   "cell_type": "code",
   "execution_count": null,
   "metadata": {},
   "outputs": [],
   "source": [
    "log_res_trans = make_pipeline(standart_scaler_trans,\n",
    "                              CreateDf([\"CreditScore\", \"Age\", \"Balance\", \"NumOfProducts\", \"EstimatedSalary\",\n",
    "                                        \"Geography\", \"Gender\", \"Tenure\", \"HasCrCard\", \"IsActiveMember\"]))"
   ]
  },
  {
   "cell_type": "code",
   "execution_count": null,
   "metadata": {},
   "outputs": [],
   "source": [
    "# посмотрим как отрабатывает трансформер"
   ]
  },
  {
   "cell_type": "code",
   "execution_count": null,
   "metadata": {},
   "outputs": [],
   "source": [
    "log_res_trans.fit_transform(X_train).head(3)"
   ]
  },
  {
   "cell_type": "code",
   "execution_count": null,
   "metadata": {},
   "outputs": [],
   "source": [
    "X_train.head(3)"
   ]
  },
  {
   "cell_type": "code",
   "execution_count": null,
   "metadata": {},
   "outputs": [],
   "source": [
    "#  отрабатывает нормально, фичи не путает, перезапишем его дополнив onehot"
   ]
  },
  {
   "cell_type": "code",
   "execution_count": null,
   "metadata": {},
   "outputs": [],
   "source": [
    "log_res_trans = make_pipeline(standart_scaler_trans,\n",
    "                              CreateDf([\"CreditScore\", \"Age\", \"Balance\", \"NumOfProducts\", \"EstimatedSalary\",\n",
    "                                        \"Geography\", \"Gender\", \"Tenure\", \"HasCrCard\", \"IsActiveMember\"]),\n",
    "                              OHEEncoder([\"Geography\", \"Gender\", \"Tenure\"]))"
   ]
  },
  {
   "cell_type": "code",
   "execution_count": null,
   "metadata": {},
   "outputs": [],
   "source": [
    "#  не будет кодировать переменные HasCrCard и IsActiveMember потому что они уже являются бинарными"
   ]
  },
  {
   "cell_type": "code",
   "execution_count": null,
   "metadata": {},
   "outputs": [],
   "source": [
    "log_res_trans.fit_transform(X_train).head(3)"
   ]
  },
  {
   "cell_type": "code",
   "execution_count": null,
   "metadata": {},
   "outputs": [],
   "source": [
    "#  чтож вроде закодировалось вполне себе нормально, можно попробовать обучить модель логистической регресии и сделать пайп"
   ]
  },
  {
   "cell_type": "code",
   "execution_count": null,
   "metadata": {},
   "outputs": [],
   "source": [
    "log_res_solver = LogisticRegression(C=0.6, random_state=42)"
   ]
  },
  {
   "cell_type": "code",
   "execution_count": null,
   "metadata": {},
   "outputs": [],
   "source": [
    "final_logres_pipe = make_pipeline(log_res_trans, log_res_solver)"
   ]
  },
  {
   "cell_type": "code",
   "execution_count": null,
   "metadata": {},
   "outputs": [],
   "source": [
    "final_logres_pipe.fit(X_train, y_train)"
   ]
  },
  {
   "cell_type": "code",
   "execution_count": null,
   "metadata": {},
   "outputs": [],
   "source": [
    "logres_predict = final_logres_pipe.predict_proba(X_test)[:, 1]\n",
    "logres_predict"
   ]
  },
  {
   "cell_type": "code",
   "execution_count": null,
   "metadata": {},
   "outputs": [],
   "source": [
    "from sklearn.metrics import roc_auc_score, precision_recall_curve, confusion_matrix"
   ]
  },
  {
   "cell_type": "code",
   "execution_count": null,
   "metadata": {},
   "outputs": [],
   "source": [
    "def best_thresold(test, preds):\n",
    "    precision, recall, thresholds = precision_recall_curve(test, preds)\n",
    "\n",
    "    fscore = (2 * precision * recall) / (precision + recall)\n",
    "    # locate the index of the largest f score\n",
    "    ix = np.argmax(fscore)\n",
    "    print('Best Threshold=%f, F-Score=%.3f, Precision=%.3f, Recall=%.3f' % (thresholds[ix], \n",
    "                                                                            fscore[ix],\n",
    "                                                                            precision[ix],\n",
    "                                                                            recall[ix]))\n",
    "    return thresholds[ix]"
   ]
  },
  {
   "cell_type": "code",
   "execution_count": null,
   "metadata": {
    "scrolled": true
   },
   "outputs": [],
   "source": [
    "logres_threshold = best_thresold(y_test, logres_predict)"
   ]
  },
  {
   "cell_type": "code",
   "execution_count": null,
   "metadata": {},
   "outputs": [],
   "source": [
    "roc_auc_score(y_test, logres_predict)"
   ]
  },
  {
   "cell_type": "markdown",
   "metadata": {},
   "source": [
    "не самый лушчший результат, поскольку мы узнаем чуть больше половины реально уходящих клиентов и при этом совершаем еще ошибку второго рода еще большую 1-46,5% = 53,5%. Т.е ошибаемся в том что это за клиент.  Т.е. мы не можем ни нормально определить уходящих, ни обеспечить понимание в разделении уходящих и нет. И вишенкой на торте roc_auc говорящий о том, что модель вполне себе способная. Это связано как раз с дисбалансом классов и дает такой результат, потому что у нас большая оценка по FN получается\n",
    "\n",
    "Посотрим что будет, при использовании такой модели"
   ]
  },
  {
   "cell_type": "markdown",
   "metadata": {},
   "source": [
    "3. Для отобранной модели (на отложенной выборке) сделать оценку экономической эффективности при тех же вводных, как в вопросе 2 (1 доллар на привлечение, 2 доллара - с каждого правильно классифицированного (True Positive) удержанного). (подсказка) нужно посчитать FP/TP/FN/TN для выбранного оптимального порога вероятности и посчитать выручку и траты. "
   ]
  },
  {
   "cell_type": "code",
   "execution_count": null,
   "metadata": {},
   "outputs": [],
   "source": [
    "def estimate_economic(test, predict, threshold):\n",
    "    conf_matrix = confusion_matrix(test, predict>threshold)\n",
    "    TN = conf_matrix[0, 0]\n",
    "    FP = conf_matrix[0, 1]\n",
    "    TP = conf_matrix[1, 1]\n",
    "    FN = conf_matrix[1, 0]\n",
    "    total_revenue = TP * 2\n",
    "    total_expences = (TP + FP) * 1\n",
    "    net_income = total_revenue - total_expences\n",
    "    print(\"Модель зарабатывает {:,}$ при расходах {:,}$. Общая рентабельность {:%}\".format(total_revenue, total_expences, \n",
    "                                                                                         net_income / total_expences))\n",
    "    "
   ]
  },
  {
   "cell_type": "code",
   "execution_count": null,
   "metadata": {},
   "outputs": [],
   "source": [
    "estimate_economic(y_test, logres_predict, logres_threshold)"
   ]
  },
  {
   "cell_type": "markdown",
   "metadata": {},
   "source": [
    "Как видно модель хронически убыточная и за такую реализацию оторвут руки))  \n",
    "Улучшим модель за счет Catboost"
   ]
  },
  {
   "cell_type": "code",
   "execution_count": null,
   "metadata": {},
   "outputs": [],
   "source": [
    "from catboost import CatBoostClassifier"
   ]
  },
  {
   "cell_type": "code",
   "execution_count": null,
   "metadata": {},
   "outputs": [],
   "source": [
    "cat_solver = CatBoostClassifier(n_estimators=250, depth=7, loss_function=\"CrossEntropy\", \n",
    "                                cat_features=[\"Geography\", \"Gender\", \"Tenure\", \"HasCrCard\", \"IsActiveMember\"],\n",
    "                                logging_level=\"Silent\")"
   ]
  },
  {
   "cell_type": "code",
   "execution_count": null,
   "metadata": {},
   "outputs": [],
   "source": [
    "cat_trans = make_pipeline(standart_scaler_trans,\n",
    "                          CreateDf([\"CreditScore\", \"Age\", \"Balance\", \"NumOfProducts\", \"EstimatedSalary\",\n",
    "                                    \"Geography\", \"Gender\", \"Tenure\", \"HasCrCard\", \"IsActiveMember\"]))"
   ]
  },
  {
   "cell_type": "code",
   "execution_count": null,
   "metadata": {},
   "outputs": [],
   "source": [
    "cat_trans.fit_transform(X_train).head(3)"
   ]
  },
  {
   "cell_type": "code",
   "execution_count": null,
   "metadata": {},
   "outputs": [],
   "source": [
    "# вроде трансформер возвращает нормальный датафрейм, едем дальше))"
   ]
  },
  {
   "cell_type": "code",
   "execution_count": null,
   "metadata": {},
   "outputs": [],
   "source": [
    "final_cat_pipe = make_pipeline(cat_trans, cat_solver)"
   ]
  },
  {
   "cell_type": "code",
   "execution_count": null,
   "metadata": {},
   "outputs": [],
   "source": [
    "final_cat_pipe.fit(X_train, y_train)"
   ]
  },
  {
   "cell_type": "code",
   "execution_count": null,
   "metadata": {},
   "outputs": [],
   "source": [
    "cat_predict = final_cat_pipe.predict_proba(X_test)[:, 1]\n",
    "cat_predict"
   ]
  },
  {
   "cell_type": "code",
   "execution_count": null,
   "metadata": {},
   "outputs": [],
   "source": [
    "cat_threshold = best_thresold(y_test, cat_predict)"
   ]
  },
  {
   "cell_type": "code",
   "execution_count": null,
   "metadata": {},
   "outputs": [],
   "source": [
    "roc_auc_score(y_test, cat_predict)"
   ]
  },
  {
   "cell_type": "code",
   "execution_count": null,
   "metadata": {},
   "outputs": [],
   "source": [
    "estimate_economic(y_test, cat_predict, cat_threshold)"
   ]
  },
  {
   "cell_type": "markdown",
   "metadata": {},
   "source": [
    "Ну вот совсем уже другое дело)) чисто на одной модели смогли улучшить результат до нормальной рентабельности. При этом как видим roc_auc поднялся всего лишь на 0.1 где-то. Поэтому в слепую применять такую метрику наврядли нужно при решени таких задач классификации, потому что информативность ее для понимания экономики низкая"
   ]
  },
  {
   "cell_type": "code",
   "execution_count": null,
   "metadata": {},
   "outputs": [],
   "source": []
  }
 ],
 "metadata": {
  "kernelspec": {
   "display_name": "Python 3",
   "language": "python",
   "name": "python3"
  },
  "language_info": {
   "codemirror_mode": {
    "name": "ipython",
    "version": 3
   },
   "file_extension": ".py",
   "mimetype": "text/x-python",
   "name": "python",
   "nbconvert_exporter": "python",
   "pygments_lexer": "ipython3",
   "version": "3.8.5"
  }
 },
 "nbformat": 4,
 "nbformat_minor": 4
}
